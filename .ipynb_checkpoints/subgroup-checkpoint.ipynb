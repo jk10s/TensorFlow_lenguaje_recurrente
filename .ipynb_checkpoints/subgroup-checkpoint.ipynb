{
 "cells": [
  {
   "cell_type": "code",
   "execution_count": null,
   "id": "b7759dd2",
   "metadata": {},
   "outputs": [],
   "source": [
    "import pandas as pd\n",
    "\n",
    "def contar_numeros_mayores(subgrupos):\n",
    "    resultados = []\n",
    "\n",
    "    for subgrupo in subgrupos:\n",
    "        conteo = sum(1 for numero in subgrupo if numero > 9.9)\n",
    "        resultados.append(conteo)\n",
    "\n",
    "    return resultados\n",
    "\n",
    "df = pd.read_excel('registros.xlsx')\n",
    "datos = df['Columna 1'].tolist()\n",
    "\n",
    "grupos = []\n",
    "subgrupo = []\n",
    "\n",
    "for i, numero in enumerate(datos):\n",
    "    subgrupo.append(numero)\n",
    "    if (i + 1) % 1000 == 0:\n",
    "        grupos.append(subgrupo)\n",
    "        subgrupo = []\n",
    "\n",
    "if subgrupo:\n",
    "    grupos.append(subgrupo)\n",
    "\n",
    "resultados = contar_numeros_mayores(grupos)\n",
    "print(resultados)\n"
   ]
  },
  {
   "cell_type": "code",
   "execution_count": null,
   "id": "421c6f0b",
   "metadata": {},
   "outputs": [],
   "source": [
    "def contar_numeros_mayores(subgrupos):\n",
    "    resultados = []\n",
    "\n",
    "    for subgrupo in subgrupos:\n",
    "        conteo = sum(1 for numero in subgrupo if numero > 9.9)\n",
    "        resultados.append(conteo)\n",
    "\n",
    "    return resultados"
   ]
  }
 ],
 "metadata": {
  "kernelspec": {
   "display_name": "Python 3 (ipykernel)",
   "language": "python",
   "name": "python3"
  },
  "language_info": {
   "codemirror_mode": {
    "name": "ipython",
    "version": 3
   },
   "file_extension": ".py",
   "mimetype": "text/x-python",
   "name": "python",
   "nbconvert_exporter": "python",
   "pygments_lexer": "ipython3",
   "version": "3.9.12"
  }
 },
 "nbformat": 4,
 "nbformat_minor": 5
}
