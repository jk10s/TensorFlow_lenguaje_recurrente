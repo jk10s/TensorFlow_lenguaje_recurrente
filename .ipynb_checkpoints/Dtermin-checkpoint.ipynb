{
 "cells": [
  {
   "cell_type": "code",
   "execution_count": null,
   "id": "e56b6ef4",
   "metadata": {},
   "outputs": [],
   "source": [
    "import numpy as np\n",
    "from sklearn.cluster import KMeans\n",
    "\n",
    "# Paso 1: Preprocesamiento de datos\n",
    "milista = [24, 4, 9, 3, 1, 7, 10, 12, 10, 6, 10, 2, 5, 3, 7, 10, 1, 2, 2, 0, 3, 3, 2, 7, 7, 5, 9, 2, ...]\n",
    "\n",
    "# No se requiere preprocesamiento adicional para este ejemplo.\n",
    "\n",
    "# Paso 2: Selección de atributos (no se requiere en este caso)\n",
    "\n",
    "# Paso 3: Elección del algoritmo de clustering (K-means)\n",
    "k = 5  # Número de grupos que deseas obtener\n",
    "\n",
    "# Paso 4: Determinación del número de grupos (K)\n",
    "# Puedes ajustar este valor según tus necesidades y los resultados que obtengas\n",
    "\n",
    "# Convertir la lista en una matriz 2D\n",
    "datos = np.array(milista).reshape(-1, 1)\n",
    "\n",
    "# Paso 5: Ejecución del algoritmo de clustering (K-means)\n",
    "kmeans = KMeans(n_clusters=k, random_state=0)\n",
    "kmeans.fit(datos)\n",
    "grupos = kmeans.predict(datos)\n",
    "\n",
    "# Paso 6: Evaluación y ajuste\n",
    "# Puedes evaluar los resultados y realizar ajustes adicionales según tus criterios\n",
    "\n",
    "# Imprimir los grupos asignados a cada número\n",
    "for i, numero in enumerate(milista):\n",
    "    print(f\"Número {numero} asignado al grupo {grupos[i]}\")\n"
   ]
  }
 ],
 "metadata": {
  "kernelspec": {
   "display_name": "Python 3 (ipykernel)",
   "language": "python",
   "name": "python3"
  },
  "language_info": {
   "codemirror_mode": {
    "name": "ipython",
    "version": 3
   },
   "file_extension": ".py",
   "mimetype": "text/x-python",
   "name": "python",
   "nbconvert_exporter": "python",
   "pygments_lexer": "ipython3",
   "version": "3.9.12"
  }
 },
 "nbformat": 4,
 "nbformat_minor": 5
}
