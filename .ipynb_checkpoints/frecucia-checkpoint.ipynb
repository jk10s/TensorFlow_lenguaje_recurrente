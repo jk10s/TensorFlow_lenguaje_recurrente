{
 "cells": [
  {
   "cell_type": "code",
   "execution_count": null,
   "id": "a89f61fa",
   "metadata": {},
   "outputs": [],
   "source": [
    "lista = [1, 2, 1, 3, 0, 3, 2, 0, 1, 2, 3, 0]\n",
    "numeros_interes = [0, 1, 2, 3]\n",
    "resultados = {num: [] for num in numeros_interes}\n",
    "\n",
    "for numero in lista:\n",
    "    contador = 0\n",
    "    if numero in numeros_interes:\n",
    "        while numero != 0:\n",
    "            contador += 1\n",
    "            lista.pop(0)  # Eliminar el número actual de la lista para avanzar al siguiente\n",
    "            if lista:\n",
    "                numero = lista[0]\n",
    "            else:\n",
    "                break\n",
    "        resultados[numero].append(contador)\n",
    "\n",
    "for num in numeros_interes:\n",
    "    if resultados[num]:\n",
    "        print(f\"Número {num}: {resultados[num]}\")\n",
    "    else:\n",
    "        print(f\"Número {num}: No se encontraron ocurrencias\")\n"
   ]
  }
 ],
 "metadata": {
  "kernelspec": {
   "display_name": "Python 3 (ipykernel)",
   "language": "python",
   "name": "python3"
  },
  "language_info": {
   "codemirror_mode": {
    "name": "ipython",
    "version": 3
   },
   "file_extension": ".py",
   "mimetype": "text/x-python",
   "name": "python",
   "nbconvert_exporter": "python",
   "pygments_lexer": "ipython3",
   "version": "3.9.12"
  }
 },
 "nbformat": 4,
 "nbformat_minor": 5
}
