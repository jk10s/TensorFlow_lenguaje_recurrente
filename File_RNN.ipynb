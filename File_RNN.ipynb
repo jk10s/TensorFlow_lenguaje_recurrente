{
 "cells": [
  {
   "cell_type": "code",
   "execution_count": null,
   "id": "6701f410",
   "metadata": {},
   "outputs": [],
   "source": [
    "import tensorflow as tf\n",
    "from tensorflow.keras.models import Sequential\n",
    "from tensorflow.keras.layers import LSTM, Dense\n",
    "\n",
    "# Definir la secuencia de números como datos de entrada\n",
    "numeros_secuencia = [0, 1, 2, 3, 4, 5, 6, 7, 8, 9, 10, 11, 12, 13, 14, 15, 16, 17, 18, 19, 20, 21, 22, 23, 24, 25, 26, 27, 28, 29, 30, 31, 32, 33, 34, 35, 36, 37, 38, 40, 42, 44, 46, 47, 48, 51, 52, 53, 57, 63, 65]\n",
    "\n",
    "# Definir los datos de entrenamiento y etiquetas\n",
    "datos_entrenamiento = []\n",
    "etiquetas = []\n",
    "for i in range(len(numeros_secuencia) - 1):\n",
    "    datos_entrenamiento.append([numeros_secuencia[i]])  # Agregar una dimensión adicional\n",
    "    etiquetas.append(numeros_secuencia[i + 1])\n",
    "\n",
    "# Convertir los datos de entrenamiento y etiquetas a matrices numpy\n",
    "datos_entrenamiento = tf.keras.utils.to_categorical(datos_entrenamiento)\n",
    "etiquetas = tf.keras.utils.to_categorical(etiquetas)\n",
    "\n",
    "# Construir el modelo de lenguaje recurrente\n",
    "modelo = Sequential()\n",
    "modelo.add(LSTM(128, input_shape=(len(datos_entrenamiento[0]), 1)))  # Añadir dimensión adicional\n",
    "modelo.add(Dense(len(etiquetas[0]), activation='softmax'))\n",
    "modelo.compile(loss='categorical_crossentropy', optimizer='adam')\n",
    "\n",
    "# Entrenar el modelo\n",
    "modelo.fit(datos_entrenamiento, etiquetas, epochs=100, batch_size=32)\n",
    "\n",
    "# Hacer una predicción basada en los datos anteriores\n",
    "datos_anteriores = [0, 1, 2, 3, 4, 5, 6, 7, 8, 9, 10, 11, 12, 13, 14, 15, 16, 17, 18, 19, 20, 21, 22, 23, 24, 25, 26, 27, 28, 29, 30, 31, 32, 33, 34, 35, 36, 37, 38, 40, 42, 44, 46, 47, 48, 51, 52, 53, 57, 63, 65]\n",
    "datos_anteriores = tf.keras.utils.to_categorical([[num] for num in datos_anteriores])  # Añadir dimensión adicional\n",
    "prediccion = modelo.predict(tf.expand_dims(datos_anteriores[-1], axis=0))\n",
    "proxima_probabilidad = prediccion[0][-1]\n",
    "\n",
    "print(\"Probabilidad de cuántos números pueden pasar antes del próximo número:\", proxima_probabilidad)\n"
   ]
  }
 ],
 "metadata": {
  "kernelspec": {
   "display_name": "Python 3 (ipykernel)",
   "language": "python",
   "name": "python3"
  },
  "language_info": {
   "codemirror_mode": {
    "name": "ipython",
    "version": 3
   },
   "file_extension": ".py",
   "mimetype": "text/x-python",
   "name": "python",
   "nbconvert_exporter": "python",
   "pygments_lexer": "ipython3",
   "version": "3.9.12"
  }
 },
 "nbformat": 4,
 "nbformat_minor": 5
}
